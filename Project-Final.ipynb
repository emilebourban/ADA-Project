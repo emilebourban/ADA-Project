{
 "cells": [
  {
   "cell_type": "markdown",
   "metadata": {},
   "source": [
    "# Women's presence on Wikipedia: A comprehensive analysis on the evolution of women's recognition over time, country and ethnicity."
   ]
  },
  {
   "cell_type": "markdown",
   "metadata": {},
   "source": [
    "## Abstract\n",
    "In the recent century, in a lot of countries, women have finally gained more rights and we have been continuously progressing towards a more equal society. Our goal in this project is to try to highlight the evolution of social gender inequalities in different domains through the ages. Our interest is on the achievements and recognition of the work done by women in different fields as far back as the data goes. We will use the data from Wikipedia and gather data on number of women referenced, their contribution to their domain, and other parameters and compare it with the same data for men. We will also try to find how the country of origin and the time of acquisition of the rights has an significant impact."
   ]
  },
  {
   "cell_type": "markdown",
   "metadata": {},
   "source": [
    "## Research questions\n",
    "Can we accurately use wikipedia database to show the gender inequalities through time?\n",
    "\n",
    "Are there any evidence that the men/women equality is reached?\n",
    "\n",
    "What are the domains in which there is more/less equality? Does this change according to regions/country/language?\n",
    "\n",
    "What is the effect of women empowering events: Right to work, Sufragettes, War effort, ...?\n",
    "\n",
    "Since some countries have delayed women's rights, is the evolution similar, in term of timeframe, extent?"
   ]
  },
  {
   "cell_type": "markdown",
   "metadata": {},
   "source": [
    "## Datasets\n",
    "For this project, we used the [wikidata](https://dumps.wikimedia.org/wikidatawiki/entities/) dataset which repertoriates the data from every Wikipedia article. It is stored in the form of a JSON data dump where the top level structure is organised as folows:\n",
    " - id\n",
    " - type\n",
    " - labels\n",
    " - descriptions\n",
    " - aliases\n",
    " - claims\n",
    " - sitelinks\n",
    " - lastrevid\n",
    " - modified\n",
    " \n",
    "Here we are only interested in keeping some of the properties for every article, mainly the `instance of`, `sex or gender`, `field of work`, `country of origin` and `date of birth`. From this we will make our analysis and conclude.\n",
    " \n",
    " \n",
    "To have an easier time visualizing the data at first, we used the [WHGI](http://whgi.wmflabs.org/). This is based on the wikidata JSON file and updated weekly. This data is stored in the form of a `.csv` and contains information about the ethnicity, field of work and times of death/birth divided into different genders. For our analysis, we are only interested in comparing data for the two most frequent genders: male and female.\n",
    " \n",
    "As an extra comparaison tool, we also used the [UN population data](https://population.un.org/wpp/Download/Standard/Population/) that stores a lot of info about the population of each country in gender and age groups. This data only goes back to 1960 but can still be usefull for recentcomparaison.\n"
   ]
  },
  {
   "cell_type": "markdown",
   "metadata": {},
   "source": [
    "# Code"
   ]
  },
  {
   "cell_type": "code",
   "execution_count": 8,
   "metadata": {},
   "outputs": [],
   "source": [
    "%matplotlib inline\n",
    "import datetime\n",
    "import re\n",
    "import os\n",
    "import time \n",
    "import math\n",
    "\n",
    "import seaborn as sns\n",
    "import matplotlib.pyplot as plt\n",
    "import pandas as pd\n",
    "import numpy as np\n",
    "\n",
    "import warnings\n",
    "warnings.filterwarnings('ignore')\n",
    "\n",
    "from bokeh.io import output_file, show\n",
    "from bokeh.models import ColumnDataSource, FixedTicker, PrintfTickFormatter\n",
    "from bokeh.plotting import figure, show, output_file, save, output_notebook\n",
    "from bokeh.palettes import Category20\n",
    "from bokeh.sampledata.perceptions import probly\n",
    "\n",
    "import findspark\n",
    "findspark.init()\n",
    "\n",
    "from pyspark.sql import *\n",
    "import pyspark.sql.functions as F\n",
    "\n",
    "from pyspark.sql.types import *\n",
    "from pyspark.sql import SparkSession\n",
    "from pyspark import SparkContext\n",
    "from collections import Counter\n",
    "\n",
    "spark = SparkSession.builder.getOrCreate()\n",
    "sc = spark.sparkContext\n",
    "\n",
    "plt.rcParams['font.size'] = 15"
   ]
  },
  {
   "cell_type": "code",
   "execution_count": 9,
   "metadata": {},
   "outputs": [],
   "source": [
    "DATA_PATH = \"data/\"\n",
    "FIG_PATH = \"figs/\""
   ]
  },
  {
   "cell_type": "markdown",
   "metadata": {},
   "source": [
    "# WHGI Data:\n",
    "The first part of the project (up to milestone 2) was done using the preprocessed data from the WHGI (Wikipedian Human Gender Index). It regroup data from Wikidata in an easy and quickly visualisable way inside of `.csv`files"
   ]
  },
  {
   "cell_type": "code",
   "execution_count": 3,
   "metadata": {},
   "outputs": [],
   "source": [
    "# Creates a list of all the files in the data folder\n",
    "files = [i for i in os.listdir(DATA_PATH) if i.endswith('.csv')]\n",
    "\n",
    "# Creates a dist with all the data in data frames\n",
    "d = dict((f[:-4], pd.read_csv(os.path.join(DATA_PATH, f))) for f in files)"
   ]
  },
  {
   "cell_type": "markdown",
   "metadata": {},
   "source": [
    "### Evolution of the article count"
   ]
  },
  {
   "cell_type": "code",
   "execution_count": 4,
   "metadata": {},
   "outputs": [],
   "source": [
    "dob = d['dateofbirth'].rename(columns={'Unnamed: 0': 'year'}).set_index('year')\n",
    "\n",
    "# Taking only the years that interest us\n",
    "dob.drop(dob[dob.index > 2018].index, axis=0, inplace=True)\n",
    "dob.drop(dob[dob.index < 1700].index, axis=0, inplace=True)"
   ]
  },
  {
   "cell_type": "code",
   "execution_count": null,
   "metadata": {},
   "outputs": [],
   "source": [
    "plt.figure(figsize=(14, 7))\n",
    "plt.subplot(211)\n",
    "plt.plot(dob.index, dob['male'], dob.index, dob['female'])\n",
    "plt.legend(['male', 'female'])\n",
    "plt.ylabel('Aticle count'); plt.xticks([])\n",
    "plt.title('Wikipedia groth by gender')\n",
    "\n",
    "# Normalized plots to compare the shape of the curve\n",
    "plt.subplot(212)\n",
    "plt.plot(dob.index, dob['male'].apply(lambda r: r/dob.male.max()), \n",
    "         dob.index, dob['female'].apply(lambda r: r/dob.female.max()))\n",
    "plt.legend(['male', 'female'])\n",
    "plt.xlabel('Years'); plt.ylabel('Normalized article count')\n",
    "\n",
    "plt.savefig(FIG_PATH+r\"WHGImen_women_all.png\")"
   ]
  },
  {
   "cell_type": "markdown",
   "metadata": {},
   "source": [
    "**Analysis**\n",
    "\n",
    "This plot quickly shows that, the number of articles for men is and has always been higher than for women. Although, when we normalize the curves to compare the evolution tendancy, we can see that today, article count for women still increases whereas for men it is almost decreasing."
   ]
  },
  {
   "cell_type": "markdown",
   "metadata": {},
   "source": [
    "### Geographical and cultural disparities"
   ]
  },
  {
   "cell_type": "code",
   "execution_count": null,
   "metadata": {},
   "outputs": [],
   "source": [
    "def counts(df):\n",
    "    \"\"\"\n",
    "    Counts the sum of the values in a row\n",
    "    \"\"\"\n",
    "    return df.iloc[1:].fillna(0).sum()"
   ]
  },
  {
   "cell_type": "code",
   "execution_count": null,
   "metadata": {
    "scrolled": false
   },
   "outputs": [],
   "source": [
    "ethnicity = d['ethnicgroups'].iloc[1:]\n",
    "ethnicity['counts'] = ethnicity.apply(lambda r: counts(r), axis=1)\n",
    "\n",
    "ethnicity.sort_values(by='counts', ascending=False, inplace=True)\n",
    "ethnicity.rename(columns={'Unnamed: 0': 'ethnicity'}, inplace=True)\n",
    "\n",
    "\n",
    "plt.figure(1, figsize=(10, 6))\n",
    "plt.scatter(ethnicity.male[:10], ethnicity.female[:10])\n",
    "maxpt = 10\n",
    "for i in range(maxpt):\n",
    "    plt.annotate(ethnicity.ethnicity.iloc[i], xy=(ethnicity.male.iloc[i]+5, ethnicity.female.iloc[i]+5))"
   ]
  },
  {
   "cell_type": "code",
   "execution_count": null,
   "metadata": {
    "scrolled": false
   },
   "outputs": [],
   "source": [
    "birthplace = d['placeofbirth'].rename(columns={'Unnamed: 0':'city'})\n",
    "birthplace['counts'] = birthplace.apply(lambda r: counts(r), axis=1)\n",
    "birthplace = birthplace[birthplace['counts'] >= 1000].sort_values(by='counts', ascending=False)\n",
    "\n",
    "# Annotates the plots with values of the points\n",
    "plt.figure(3, figsize=(10, 6))\n",
    "plt.scatter(birthplace.male[1:15], birthplace.female[1:15])\n",
    "maxpt = 15\n",
    "for i in range(1, maxpt):\n",
    "    plt.annotate(birthplace.city.iloc[i], xy=(birthplace.male.iloc[i], birthplace.female.iloc[i]))"
   ]
  },
  {
   "cell_type": "markdown",
   "metadata": {},
   "source": [
    "**Analsis**\n",
    "\n",
    "Both of those plots are used a quick visualization to choose the angle of aproach of our more thourough analysis later. We wanted to find if their was disparities based on cultural and geographical separation. In both those scatter plots, most of the points are along the same trend line. All except for one, african-american for ethnicity and Tokyo for the birth places. Those are interesting outliers and we wil later focus again on the case of japan once we have gathered more data."
   ]
  },
  {
   "cell_type": "markdown",
   "metadata": {},
   "source": [
    "## Conclusion for WHGI:\n",
    "\n",
    "We have seen in this first part the overall trends for the evolution of the articles worldwide per gender then by focusing on more on the spacial differences. The idea now would be to gather all the data we can by parsing the Wikidata JSON dump. This would allow us to track the evolution through time of all the citizenships and the fields of works."
   ]
  },
  {
   "cell_type": "markdown",
   "metadata": {},
   "source": [
    "# Full Wikidata JSON file:\n",
    "After some analysis, we found that relying solely on the WHGI data wouldn't allow us to go as far as we wanted in the analysis. For this reason, we took the decision to parse the full Wikidata dataset using the ADA cluster. From this we managed to extract all the information that we wanted.\n",
    "\n",
    "#### Data extraction:\n",
    "Since the wikidata JSON file is 670 Gigabytes, it was too large to use spark. To circumvent this issue, we wrote a pyhton script that read the JSON file and extracted the data we needed. Each JSON entity corresponds to a wikipedia page, so our script checked if the entity was a human, and if it was, it wrote its properties that we wanted in a new JSON file (humans_strip2.json). \n",
    "This way of doing was convenient because the original JSON had a complex nested structure which we simplified greatly and thus facilitated later processing."
   ]
  },
  {
   "cell_type": "code",
   "execution_count": 14,
   "metadata": {},
   "outputs": [],
   "source": [
    "# Loading all the (raw) human data from wikidata\n",
    "humans_df = spark.read.json(os.path.join(DATA_PATH, \"humans_strip2.json\"))"
   ]
  },
  {
   "cell_type": "markdown",
   "metadata": {},
   "source": [
    "Useful functions for initial treatment of the data"
   ]
  },
  {
   "cell_type": "code",
   "execution_count": 15,
   "metadata": {},
   "outputs": [],
   "source": [
    "def to_datetime(date, how='months'):\n",
    "    \"\"\"\n",
    "    Converts the string date to an integer containing the date info. Can return multiple types of \n",
    "    elapsed time measurments.\n",
    "    \n",
    "    IN: 'date' str with the date info, 'how' keyword argument to specify the return type\n",
    "    \n",
    "    OUT: integer value for the date\n",
    "    \"\"\"\n",
    "    if date != None:\n",
    "        if date[0] != '-':\n",
    "            if how == 'months':\n",
    "                try:\n",
    "                    # Aproximate elapsed months count since 1 AD\n",
    "                    return math.floor(( datetime.datetime.strptime(date[1:-1], '%Y-%m-%dT%H:%M:%S') \n",
    "                                - datetime.datetime(1, 1, 1) ).days/30)\n",
    "                except :\n",
    "                    return None\n",
    "            elif how == 'years':\n",
    "                try:\n",
    "                    # Years \n",
    "                    return int(date[1:5])\n",
    "                except :\n",
    "                    return None    \n",
    "            elif how == 'days':\n",
    "                try:\n",
    "                    # Elapsed days since 1 AD\n",
    "                    return math.floor(( datetime.datetime.strptime(date[1:-1], '%Y-%m-%dT%H:%M:%S') \n",
    "                                - datetime.datetime(1, 1, 1) ).days)\n",
    "                except :\n",
    "                    return None\n",
    "    return None\n",
    "\n",
    "\n",
    "def get_gender(gender):\n",
    "    \"\"\"\n",
    "    Returns the gender from the Wikidata ids labels\n",
    "    \"\"\"\n",
    "    if gender == 'Q6581097':\n",
    "        return 'male'\n",
    "    elif gender == 'Q6581072':\n",
    "        return 'female'\n",
    "    else:\n",
    "        return None"
   ]
  },
  {
   "cell_type": "code",
   "execution_count": 16,
   "metadata": {},
   "outputs": [],
   "source": [
    "def clean_dates(df):\n",
    "    \"\"\"\n",
    "    Removes erroneous dates in the data\n",
    "    \"\"\"\n",
    "    err_dates = [1901, 1947, 1949, 1950, 1953, 2000]\n",
    "    return df[~df['BirthYear'].isin(err_dates)]\n",
    "\n",
    "def normalize_count(df):\n",
    "    \"\"\"\n",
    "    Outputs normalized counts of article per year, used to compare the curve's shapes\n",
    "    \"\"\"\n",
    "    return df['count'].apply(lambda r: r/df['count'].max())"
   ]
  },
  {
   "cell_type": "code",
   "execution_count": 17,
   "metadata": {
    "scrolled": false
   },
   "outputs": [
    {
     "name": "stdout",
     "output_type": "stream",
     "text": [
      "root\n",
      " |-- BirthDay: long (nullable = true)\n",
      " |-- BirthMonth: long (nullable = true)\n",
      " |-- BirthPlace: string (nullable = true)\n",
      " |-- BirthYear: long (nullable = true)\n",
      " |-- Citizenships: array (nullable = true)\n",
      " |    |-- element: string (containsNull = true)\n",
      " |-- Death: long (nullable = true)\n",
      " |-- Gender: string (nullable = true)\n",
      " |-- Id: string (nullable = true)\n",
      " |-- Name: string (nullable = true)\n",
      " |-- Occupations: array (nullable = true)\n",
      " |    |-- element: string (containsNull = true)\n",
      " |-- Sitelinks: array (nullable = true)\n",
      " |    |-- element: string (containsNull = true)\n",
      "\n",
      "+--------+----------+----------+---------+--------------+-----+------+-----+-----------------+--------------------+--------------------+\n",
      "|BirthDay|BirthMonth|BirthPlace|BirthYear|  Citizenships|Death|Gender|   Id|             Name|         Occupations|           Sitelinks|\n",
      "+--------+----------+----------+---------+--------------+-----+------+-----+-----------------+--------------------+--------------------+\n",
      "|  632286|     21076|   Q495645|     1732|[Q161885, Q30]|21901|  male|  Q23|George Washington|[Q82955, Q189290,...|[maiwiki, fiwiki,...|\n",
      "|  712657|     23755|      Q350|     1952|        [Q145]|24353|  male|  Q42|    Douglas Adams|[Q214917, Q28389,...|[fiwiki, fawiki, ...|\n",
      "|  682142|     22738|     Q9005|     1868|         [Q31]|23666|  male|Q1868|       Paul Otlet|[Q36180, Q40348, ...|[fiwiki, eowiki, ...|\n",
      "+--------+----------+----------+---------+--------------+-----+------+-----+-----------------+--------------------+--------------------+\n",
      "only showing top 3 rows\n",
      "\n"
     ]
    }
   ],
   "source": [
    "# Date/gender extraction and schema specification\n",
    "humans = spark.createDataFrame(humans_df.rdd.map(lambda r: Row(Id=r[0], \n",
    "                                                               BirthYear=to_datetime(r[1], how='years'),\n",
    "                                                               BirthMonth=to_datetime(r[1]),\n",
    "                                                               BirthDay=to_datetime(r[1], how='days'),\n",
    "                                                               BirthPlace=r[2],\n",
    "                                                               Citizenships=r[3],\n",
    "                                                               Death=to_datetime(r[4]),\n",
    "                                                               Gender=get_gender(r[5]),\n",
    "                                                               Name=r[6],\n",
    "                                                               Occupations=r[7],\n",
    "                                                               Sitelinks=r[8]))\n",
    "                              ).filter(\"BirthMonth is not null and Gender is not null\")\n",
    "\n",
    "humans.printSchema()\n",
    "humans.show(3)"
   ]
  },
  {
   "cell_type": "markdown",
   "metadata": {},
   "source": [
    "## Quick visualization of the data\n",
    "We rapidly extract the data and show the evolution of the number of articles for both gender through time. The choice was made to only study the evolution since 1700 since before that, the nuber of articles is very sparse and the representation of women was not something of importance."
   ]
  },
  {
   "cell_type": "code",
   "execution_count": null,
   "metadata": {},
   "outputs": [],
   "source": [
    "# Seperation of the data on gender \n",
    "men = humans.filter(\"Gender == 'male'\")\n",
    "women = humans.filter(\"Gender == 'female'\")"
   ]
  },
  {
   "cell_type": "code",
   "execution_count": null,
   "metadata": {},
   "outputs": [],
   "source": [
    "# Export to Pandas for plotting\n",
    "men_pd_yr =  men.select('Id', 'BirthYear').groupBy(\"BirthYear\").count() \\\n",
    "                .toPandas().sort_values(by='BirthYear')\n",
    "\n",
    "women_pd_yr = women.select('Id', 'BirthYear').groupBy(\"BirthYear\").count() \\\n",
    "                   .toPandas().sort_values(by='BirthYear')"
   ]
  },
  {
   "cell_type": "markdown",
   "metadata": {},
   "source": [
    "Evolution of number of Wikipedia articles in function of birth year"
   ]
  },
  {
   "cell_type": "markdown",
   "metadata": {},
   "source": [
    "**Dealing with dates**\n",
    "\n",
    "During our initial viewing of the data, we have found that when some of the precise date information was missing (day and month) the dates were automatically set to the 1st of January. For this reason and the fact that the datetime format seems to be poorly handled in spark we chose to only keep the year information in the form of an integer.\n",
    "\n",
    "Moreover, another particularity of the data is the fact that at some dates, the birth counts were very high (tens times over the expected value). We were curious about this behavior so we displayed the article for which this happened and reverse searched some of them. We found that those articles add no dates information in them and they were attributed arbitrarily (some like actors had birth dates during the period they were famous). For this reason we chose to ignore those values interely to not interfere with the analysis later."
   ]
  },
  {
   "cell_type": "code",
   "execution_count": null,
   "metadata": {
    "scrolled": false
   },
   "outputs": [],
   "source": [
    "# Removes date with erroneous values\n",
    "df_women_yr = clean_dates(women_pd_yr)\n",
    "df_men_yr = clean_dates(men_pd_yr)\n",
    "\n",
    "fig, ax1 = plt.subplots(); fig.set_size_inches(14, 7)\n",
    "\n",
    "# Plots the values for the selected years\n",
    "ax1.plot(df_men_yr[(df_men_yr['BirthYear'] >= 1700) & (df_men_yr['BirthYear'] <= 2018)]['BirthYear'], \n",
    "         df_men_yr[(df_men_yr['BirthYear'] >= 1700) & (df_men_yr['BirthYear'] <= 2018)]['count'])\n",
    "ax1.plot(df_women_yr[(df_women_yr['BirthYear'] >= 1700) & (df_women_yr['BirthYear'] <= 2018)]['BirthYear'], \n",
    "         df_women_yr[(df_women_yr['BirthYear'] >= 1700) & (df_women_yr['BirthYear'] <= 2018)]['count'])\n",
    "\n",
    "ax1.set_xlabel('Years'); ax1.set_ylabel('# of articles')\n",
    "ax1.legend(['Men', 'Women'], loc=2);\n",
    "\n",
    "# Computation of the ratio: \n",
    "# Ratio doesn't take into account the values after 1995 because they aren't complete\n",
    "ratio = pd.DataFrame(df_women_yr[(df_women_yr['BirthYear'] >= 1700) & (df_women_yr['BirthYear'] <= 1995)]['count'].values  \n",
    "                     / df_men_yr[(df_men_yr['BirthYear'] >= 1700) & (df_men_yr['BirthYear'] <= 1995)]['count'].values)\n",
    "ratio.columns = ['ratio']\n",
    "ratio['year'] = np.linspace(1700, 1995, ratio.shape[0])\n",
    "\n",
    "# Plots ratio on right axis\n",
    "ax2 = ax1.twinx()\n",
    "ax2.plot(ratio['year'], ratio['ratio'], '-r')\n",
    "ax2.legend(['ratio'], loc=1)\n",
    "ax2.set_ylabel('F/M Ratio')\n",
    "plt.title('Evolution of Wikipedia article by gender');\n",
    "\n",
    "plt.savefig(FIG_PATH+r\"men_women_all.png\")"
   ]
  },
  {
   "cell_type": "code",
   "execution_count": null,
   "metadata": {},
   "outputs": [],
   "source": [
    "# Computation of the corremation coefficient\n",
    "print(\"The Spearman coefficient of the F/M ratio is {:.4}\".format(ratio.corr(method='spearman').iloc[0][1]))\n",
    "print(\"The Pearson coefficient of the F/M ratio is {:.4}\".format(ratio.corr(method='pearson').iloc[0][1]))"
   ]
  },
  {
   "cell_type": "markdown",
   "metadata": {},
   "source": [
    "**Analysis**\n",
    "\n",
    "First the shape of this curve is identical to the one obtained previously, confirming the correctness of our data extraction. \n",
    "\n",
    "From these measures, we can see that the passing of time is positively correlated to the increase of the F/M ratio. As we previously hypothsized. Moreover, we can notice that the slope of the raito curve increases sharply around the 1940s. This period corresponds to the start of a period of women's emancipation all around the globe such as the Sufragettes mouvement (1930s) in England or the right to vote given to women in France (1944)."
   ]
  },
  {
   "cell_type": "markdown",
   "metadata": {},
   "source": [
    "## Effects of the ethnicity:\n",
    "Here, we use the nationality of the people listed on wikipedia to extract for each country (the 200 most populated ones). With this info, we have regrouped arbitrarly the nationalities into regions of similar cultures or ethnicity to have bigger and more significative data."
   ]
  },
  {
   "cell_type": "code",
   "execution_count": null,
   "metadata": {},
   "outputs": [],
   "source": [
    "def get_humans_w_cit(df, cit_list):\n",
    "    \"\"\"\n",
    "    Find the human for a given list of citizenships, separeted by gender\n",
    "    \n",
    "    IN: Dataframe of every people and list of citizenships to group them by\n",
    "    \n",
    "    OUT: Pandas dataframes for men and women of given ctizenships\n",
    "    \"\"\"\n",
    "    \n",
    "    citizens = df.select(\"Id\", \"BirthYear\", \"Citizenships\", \"Gender\") \\\n",
    "                 .withColumn(\"Citizenships\", F.explode(\"Citizenships\")) \\\n",
    "                 .filter(F.col(\"Citizenships\").isin(cit_list))\n",
    "    \n",
    "    men = citizens.filter(\"Gender == 'male'\")\n",
    "    women = citizens.filter(\"Gender == 'female'\")\n",
    "    \n",
    "    men_pd_yr =  men.select('Id', 'BirthYear').groupBy(\"BirthYear\").count() \\\n",
    "                .toPandas()\n",
    "    men_pd_yr = men_pd_yr[(men_pd_yr['BirthYear'] >= 1700) & (men_pd_yr['BirthYear'] <= 2018)]\n",
    "    \n",
    "    women_pd_yr = women.select('Id', 'BirthYear').groupBy(\"BirthYear\").count() \\\n",
    "                       .toPandas()\n",
    "    women_pd_yr = women_pd_yr[(women_pd_yr['BirthYear'] >= 1700) & (women_pd_yr['BirthYear'] <= 2018)]\n",
    "    \n",
    "    return men_pd_yr.sort_values(by='BirthYear'), women_pd_yr.sort_values(by='BirthYear')"
   ]
  },
  {
   "cell_type": "code",
   "execution_count": null,
   "metadata": {},
   "outputs": [],
   "source": [
    "# Creates a dictionary separating regions of the gobe by using the IDs of the 200 most frequent citizenships\n",
    "regions = {\"NA\":['Q30', 'Q16'],\n",
    "           \"W_EU\":['Q145', 'Q174193', 'Q21', 'Q142', 'Q29', 'Q38', 'Q183', 'Q7318', 'Q16957', 'Q713750', 'Q39'],\n",
    "           \"E_EU\":[],\n",
    "           \"NE_AS\":['Q17', 'Q884'],\n",
    "           \"SE_AS\":['Q869', 'Q928', 'Q424', 'Q252', 'Q819', 'Q881', 'Q833', 'Q836', 'Q334'],\n",
    "           \"M_AS\":['Q668', 'Q837', 'Q902', 'Q854', 'Q843'],\n",
    "           \"MA\":['Q1028', 'Q79', 'Q948', 'Q1016', 'Q262'],\n",
    "           \"SA\":[],\n",
    "           \"ME\":['Q851', 'Q878', 'Q219060', 'Q846', 'Q801', 'Q822', 'Q889', 'Q796', 'Q810', 'Q794', 'Q858', 'Q817', 'Q398'],\n",
    "           \"CN\":['Q29520', 'Q13426199', 'Q8646', 'Q865', 'Q148']\n",
    "         }"
   ]
  },
  {
   "cell_type": "code",
   "execution_count": null,
   "metadata": {},
   "outputs": [],
   "source": [
    "def display_coutries(keys):\n",
    "    \"\"\"\n",
    "    Displays the countries in each region from the dict keys\n",
    "    \"\"\"\n",
    "    # Loading of the dict from the file\n",
    "    dict_cit = {}\n",
    "    with open(os.path.join(\"dict\", \"citizenships_dict.json\"), mode='rt') as f:\n",
    "        for line in f:\n",
    "            dict_cit.update(eval(line.rstrip('\\n')))\n",
    "    for key in keys:\n",
    "        print(\"{} :\".format(key))\n",
    "        for citiz_id in regions[key]:\n",
    "            print(\"\\t-\", dict_cit[citiz_id])"
   ]
  },
  {
   "cell_type": "markdown",
   "metadata": {},
   "source": [
    "### Evolution of article count in similar cultures\n",
    "Here we compare the evolution between Western Europe and North America"
   ]
  },
  {
   "cell_type": "code",
   "execution_count": null,
   "metadata": {},
   "outputs": [],
   "source": [
    "# Loading for selected regions\n",
    "NA_m, NA_w = get_humans_w_cit(humans, regions['NA'])\n",
    "EU_m, EU_w = get_humans_w_cit(humans, regions['W_EU'])"
   ]
  },
  {
   "cell_type": "code",
   "execution_count": null,
   "metadata": {},
   "outputs": [],
   "source": [
    "# Display of the countries in the selected regions\n",
    "display_coutries(['NA', 'W_EU'])"
   ]
  },
  {
   "cell_type": "code",
   "execution_count": null,
   "metadata": {},
   "outputs": [],
   "source": [
    "plt.figure(figsize=(14, 15))\n",
    "\n",
    "plt.subplot(311)\n",
    "# Plots per gender and regions\n",
    "plt.plot(clean_dates(EU_m)['BirthYear'], (clean_dates(EU_m)['count']), '-b',\n",
    "         clean_dates(EU_w)['BirthYear'], (clean_dates(EU_w)['count']), '-r',)\n",
    "\n",
    "plt.plot(clean_dates(NA_m)['BirthYear'], (clean_dates(NA_m)['count']), '--b',\n",
    "         clean_dates(NA_w)['BirthYear'], (clean_dates(NA_w)['count']), '--r',)\n",
    "\n",
    "plt.legend(['EU men', 'EU women', 'NA men', 'NA women'], loc=2)\n",
    "plt.xlabel('Years'); plt.ylabel('# of articles');\n",
    "plt.title('Evolution of the number of Wikipedia article per gender in Europe and North America');\n",
    "\n"
   ]
  },
  {
   "cell_type": "code",
   "execution_count": null,
   "metadata": {},
   "outputs": [],
   "source": [
    "plt.figure(figsize=(14, 10))\n",
    "\n",
    "# Normalized plots to study the curves' shapes\n",
    "plt.subplot(211)\n",
    "plt.plot(clean_dates(EU_m)['BirthYear'], normalize_count(clean_dates(EU_m)),\n",
    "         clean_dates(NA_m)['BirthYear'], normalize_count(clean_dates(NA_m)))\n",
    "plt.legend(['European men', 'North-American men'], loc=2)\n",
    "plt.title('Comparaison of the evolution tendency in similar cultures for men and women')\n",
    "plt.ylabel('Normalized # of articles'); plt.xticks([])\n",
    "\n",
    "plt.subplot(212)\n",
    "plt.plot(clean_dates(EU_w)['BirthYear'], normalize_count(clean_dates(EU_w)),\n",
    "         clean_dates(NA_w)['BirthYear'], normalize_count(clean_dates(NA_w)))\n",
    "plt.legend(['European women', 'North-American women'], loc=2)\n",
    "plt.xlabel('Years'); plt.ylabel('Normalized # of articles');\n",
    "\n",
    "plt.savefig(FIG_PATH+r\"NA_EU_comparaison.png\")"
   ]
  },
  {
   "cell_type": "markdown",
   "metadata": {},
   "source": [
    "The data here shows the evolution of genders on Wikipedia in Western Europe and North America. The evolution for both regions is very similar due to the cultural developement date similarities. Even though the number of articles can lack straight number similarities, when normalized we can see that the evolution curve is the same.\n",
    "\n",
    "\n",
    "We can also see that that the number of Wikipedia articles is a good indicator of the total population in each region. In the European trace, we can see significant dips in population during both wars. Whereas, the american poplation is mostly unnafected by WW1.\n",
    "\n",
    "Therefore, we conclude that cultural similarities lead to similarities in gender representaion"
   ]
  },
  {
   "cell_type": "markdown",
   "metadata": {},
   "source": [
    "### Evolution for different cultures\n",
    "Now we try and compare the evolution across cultures. The comparaison was made using western data with North-East Asia and muslim countries, in two sets, Magrheb and the Middle-East.\n",
    "\n",
    "The idea here is to study the shapes of the curve to show their evolution, not the magnitude of the article count. This means that we will here compare the normalized article counts."
   ]
  },
  {
   "cell_type": "code",
   "execution_count": null,
   "metadata": {},
   "outputs": [],
   "source": [
    "NE_AS_m, NE_AS_w = get_humans_w_cit(humans, regions['NE_AS'])\n",
    "display_coutries(['NE_AS'])"
   ]
  },
  {
   "cell_type": "code",
   "execution_count": null,
   "metadata": {
    "scrolled": false
   },
   "outputs": [],
   "source": [
    "# Data for NE Asia\n",
    "plt.figure(figsize=(14, 5))\n",
    "plt.plot(clean_dates(NE_AS_m)['BirthYear'], (clean_dates(NE_AS_m))['count'],\n",
    "         clean_dates(NE_AS_w)['BirthYear'], (clean_dates(NE_AS_w))['count'])\n",
    "plt.legend(['North asian men', 'North asian women'])\n",
    "plt.xlabel('Years'); plt.ylabel('Article count')\n",
    "plt.title('Articles for north asian coutries per gender');"
   ]
  },
  {
   "cell_type": "markdown",
   "metadata": {},
   "source": [
    "**Analysis**\n",
    "\n",
    "This is the first time that we have noticed a behavior quite like this one. Here we can see that for the more recent years, the F/M ratio is very close to one"
   ]
  },
  {
   "cell_type": "code",
   "execution_count": null,
   "metadata": {},
   "outputs": [],
   "source": [
    "# Curve comparianson for AS and America\n",
    "plt.figure(figsize=(16, 10))\n",
    "plt.subplot(211)\n",
    "plt.plot(clean_dates(NA_m)['BirthYear'], normalize_count(clean_dates(NA_m)),\n",
    "         clean_dates(NE_AS_m)['BirthYear'], normalize_count(clean_dates(NE_AS_m)))\n",
    "plt.legend(['North-american men', 'North-East Asian men'])\n",
    "plt.title('Comparaison between north asia and north america')\n",
    "plt.ylabel('Normalized # of articles'); plt.xticks([])\n",
    "\n",
    "plt.subplot(212)\n",
    "plt.plot(clean_dates(NA_w)['BirthYear'], normalize_count(clean_dates(NA_w)),\n",
    "         clean_dates(NE_AS_w)['BirthYear'], normalize_count(clean_dates(NE_AS_w)))\n",
    "plt.legend(['North-american women', 'North-East Asian women'])\n",
    "plt.xlabel('Years'); plt.ylabel('Normalized # of articles');\n",
    "\n",
    "plt.savefig(FIG_PATH+r\"NA_AS_comparaison.png\")"
   ]
  },
  {
   "cell_type": "markdown",
   "metadata": {},
   "source": [
    "For this culture group (highly developped asian countries) we can see that although, similarly to all the other cultures, women weren't represented at first. The number of articles about them has grown at a huge rate later and has almost reached an equality point."
   ]
  },
  {
   "cell_type": "code",
   "execution_count": null,
   "metadata": {},
   "outputs": [],
   "source": [
    "ME_m, ME_w = get_humans_w_cit(humans, regions['ME'])\n",
    "MA_m, MA_w = get_humans_w_cit(humans, regions['MA'])\n",
    "display_coutries(['ME', 'MA'])"
   ]
  },
  {
   "cell_type": "code",
   "execution_count": null,
   "metadata": {
    "scrolled": false
   },
   "outputs": [],
   "source": [
    "# Compariason between arabic coutries\n",
    "plt.figure(figsize=(16, 10))\n",
    "plt.subplot(211)\n",
    "plt.plot(clean_dates(MA_m)['BirthYear'], normalize_count(clean_dates(MA_m)),\n",
    "         clean_dates(ME_m)['BirthYear'], normalize_count(clean_dates(ME_m)))\n",
    "plt.legend(['MA men', 'ME men'])\n",
    "plt.ylabel('Normalized article count'); plt.xticks([])\n",
    "plt.title('Wikipedia normalized groth for arabic countries')\n",
    "plt.subplot(212)\n",
    "plt.plot(clean_dates(MA_w)['BirthYear'], normalize_count(clean_dates(MA_w)),\n",
    "         clean_dates(ME_w)['BirthYear'], normalize_count(clean_dates(ME_w)))\n",
    "plt.legend(['ME women', 'MA women'])\n",
    "plt.xlabel('Years'); plt.ylabel('Normalized article count');"
   ]
  },
  {
   "cell_type": "markdown",
   "metadata": {},
   "source": [
    "**Choices for the following plots**\n",
    "\n",
    "The aim of this part was to comapare the arabic countries to the rest of the world. In this plot we show that the evolution for the middle east ond for maghreb countries are very similar. For this reason, we chose to combine those in order to have more data."
   ]
  },
  {
   "cell_type": "code",
   "execution_count": null,
   "metadata": {},
   "outputs": [],
   "source": [
    "# Copies the lists as to not modify the dict\n",
    "arabic_regions = regions['ME'].copy() + regions['MA'].copy()\n",
    "AR_m, AR_w = get_humans_w_cit(humans, arabic_regions)"
   ]
  },
  {
   "cell_type": "code",
   "execution_count": null,
   "metadata": {
    "scrolled": false
   },
   "outputs": [],
   "source": [
    "# Removes date with erroneous values\n",
    "df_women_yr = clean_dates(women_pd_yr)\n",
    "df_men_yr = clean_dates(men_pd_yr)\n",
    "\n",
    "fig, ax1 = plt.subplots(); fig.set_size_inches(16, 7)\n",
    "\n",
    "ax1.plot(clean_dates(AR_m)['BirthYear'], (clean_dates(AR_m))['count'])\n",
    "ax1.plot(clean_dates(AR_w)['BirthYear'], (clean_dates(AR_w))['count'])\n",
    "\n",
    "ax1.set_xlabel('Years'); ax1.set_ylabel('# of articles')\n",
    "ax1.legend(['Men', 'Women'], loc=2);\n",
    "\n",
    "# Computation of the ratio: \n",
    "# Ratio doesn't take into account the values after 1995 because they aren't complete\n",
    "df_AR = clean_dates(AR_m).merge(clean_dates(AR_w), on='BirthYear', how='inner'\n",
    "                               ).rename(columns={'count_x':'men', 'count_y':'women'})\n",
    "df_AR['ratio'] = df_AR.apply(lambda r: r['women']/r['men'], axis=1 )\n",
    "\n",
    "ax2 = ax1.twinx()\n",
    "ax2.plot(df_AR[(df_AR['BirthYear'] >= 1872) & (df_AR['BirthYear'] <= 1995)]['BirthYear'], \n",
    "         df_AR[(df_AR['BirthYear'] >= 1872) & (df_AR['BirthYear'] <= 1995)]['ratio'].rolling(10).mean(), '-r')\n",
    "ax2.legend(['ratio'], loc=1)\n",
    "ax2.set_ylabel('F/M Ratio')\n",
    "plt.title('Evolution of Wikipedia article by gender');\n",
    "plt.savefig(FIG_PATH+r\"AR_men_women.png\")"
   ]
  },
  {
   "cell_type": "markdown",
   "metadata": {},
   "source": [
    "**Analysis**\n",
    "\n",
    "We can show here that similarly to the first plot the amount of women increases for the later part of the plot. Although, compared to the previous plot, the M/F ratio reaches its max in the mid 70s. After this period, the ratio starts going down again. This is a strange behavior that we have not seen before in the other analyzed countries. \n",
    "\n",
    "One hypothesis for this could be the fact that during a period of time in the 70s some coutries like Turkey and Iran had periods of secularism where women had more freedom that they currently have."
   ]
  },
  {
   "cell_type": "markdown",
   "metadata": {},
   "source": [
    "## Analysis of women disitribution through wikipedia articles languages"
   ]
  },
  {
   "cell_type": "code",
   "execution_count": 18,
   "metadata": {},
   "outputs": [],
   "source": [
    "humans = humans.select(F.col('BirthYear').alias('Birth'), F.col('BirthPlace'), F.col('Citizenships'), F.col('Death'), F.col('Gender'), F.col('Id'), F.col('Name'), F.col('Occupations'), F.col('Sitelinks'))"
   ]
  },
  {
   "cell_type": "code",
   "execution_count": 19,
   "metadata": {},
   "outputs": [
    {
     "data": {
      "text/plain": [
       "DataFrame[Birth: bigint, BirthPlace: string, Citizenships: array<string>, Death: bigint, Gender: string, Id: string, Name: string, Occupations: array<string>, Sitelinks: array<string>]"
      ]
     },
     "execution_count": 19,
     "metadata": {},
     "output_type": "execute_result"
    }
   ],
   "source": [
    "humans.filter(\"'Birth' > 1700 and 'Birth' < 2018\")"
   ]
  },
  {
   "cell_type": "markdown",
   "metadata": {},
   "source": [
    "We want to compare the number of articles for women and men for each wikipedia language. To do so we use the sitelinks column of our humans dataframe that we explode and then group them by sitelink while counting the number of man and woman during the aggregation and create a new dataframe with the result."
   ]
  },
  {
   "cell_type": "code",
   "execution_count": 20,
   "metadata": {},
   "outputs": [],
   "source": [
    "sitelinks_gender = spark.createDataFrame(humans.withColumn('sitelinks', F.explode('sitelinks'))\n",
    "                                         .groupBy('sitelinks').agg(F.collect_list(\"Gender\")).rdd\n",
    "                                         .map(lambda r: Row(sitelinks = r[0], Male = r[1].count('male'), \n",
    "                                                                              Female = r[1].count('female')))\n",
    "                                         .filter(lambda r: r[2].endswith('wiki')))  #\n",
    "                \n"
   ]
  },
  {
   "cell_type": "code",
   "execution_count": 21,
   "metadata": {},
   "outputs": [],
   "source": [
    "sitelinks_pd = sitelinks_gender.toPandas()\n",
    "sitelinks_pd['Total'] = sitelinks_pd[['Male','Female']].sum(axis=1, numeric_only =True)\n",
    "sitelinks_pd['Ratio_w'] = sitelinks_pd['Female'].div(sitelinks_pd['Total'])\n",
    "sitelinks_pd = sitelinks_pd[sitelinks_pd['Total']>1000]"
   ]
  },
  {
   "cell_type": "code",
   "execution_count": 22,
   "metadata": {},
   "outputs": [
    {
     "data": {
      "text/plain": [
       "<seaborn.axisgrid.FacetGrid at 0x19f39d96208>"
      ]
     },
     "execution_count": 22,
     "metadata": {},
     "output_type": "execute_result"
    },
    {
     "data": {
      "image/png": "[encoded data removed]",
      "text/plain": [
       "<Figure size 360x360 with 1 Axes>"
      ]
     },
     "metadata": {},
     "output_type": "display_data"
    }
   ],
   "source": [
    "# now plot the scatter of number of men vs women in each wikipedia language.\n",
    "\n",
    "# We create columns with the log of the number for a log-log plot\n",
    "sitelinks_pd['log number of men'] = sitelinks_pd['Male'].apply(np.log)\n",
    "sitelinks_pd['log number of women'] = sitelinks_pd['Female'].apply(np.log)\n",
    "\n",
    "# create scatter plot with linear regression with 99.99% confidence interval calculated by bootstrapping\n",
    "ax = sns.lmplot(x='log number of men',y='log number of women', data=sitelinks_pd, fit_reg=True, ci=99.99, n_boot=10000)\n",
    "ax.set(title='Linear regression of men vs women article numbers')\n"
   ]
  },
  {
   "cell_type": "code",
   "execution_count": 23,
   "metadata": {},
   "outputs": [
    {
     "data": {
      "text/html": [
       "<div>\n",
       "<style scoped>\n",
       "    .dataframe tbody tr th:only-of-type {\n",
       "        vertical-align: middle;\n",
       "    }\n",
       "\n",
       "    .dataframe tbody tr th {\n",
       "        vertical-align: top;\n",
       "    }\n",
       "\n",
       "    .dataframe thead th {\n",
       "        text-align: right;\n",
       "    }\n",
       "</style>\n",
       "<table border=\"1\" class=\"dataframe\">\n",
       "  <thead>\n",
       "    <tr style=\"text-align: right;\">\n",
       "      <th></th>\n",
       "      <th>Female</th>\n",
       "      <th>Male</th>\n",
       "    </tr>\n",
       "  </thead>\n",
       "  <tbody>\n",
       "    <tr>\n",
       "      <th>Female</th>\n",
       "      <td>1.000000</td>\n",
       "      <td>0.992232</td>\n",
       "    </tr>\n",
       "    <tr>\n",
       "      <th>Male</th>\n",
       "      <td>0.992232</td>\n",
       "      <td>1.000000</td>\n",
       "    </tr>\n",
       "  </tbody>\n",
       "</table>\n",
       "</div>"
      ],
      "text/plain": [
       "          Female      Male\n",
       "Female  1.000000  0.992232\n",
       "Male    0.992232  1.000000"
      ]
     },
     "execution_count": 23,
     "metadata": {},
     "output_type": "execute_result"
    }
   ],
   "source": [
    "# Calculating pearson correlation coefficient\n",
    "sitelinks_pd[['Female','Male']].corr(method='pearson' )"
   ]
  },
  {
   "cell_type": "markdown",
   "metadata": {},
   "source": [
    "**Analysis**\n",
    "\n",
    "Here the slope of the regression curve represent the ratio of woman. We see there are some outliers, especially in lower values (keeping in mind the logarithmic scale) but overall, the distrubution follows. We see that since the pearson coefficient is so high (0.992232) the ratio of women to men is globally not dependant on the language. "
   ]
  },
  {
   "cell_type": "markdown",
   "metadata": {},
   "source": [
    "We now plot the ratio of women to get another represention"
   ]
  },
  {
   "cell_type": "code",
   "execution_count": 24,
   "metadata": {},
   "outputs": [
    {
     "data": {
      "image/png": "[encoded data removed]",
      "text/plain": [
       "<Figure size 432x432 with 1 Axes>"
      ]
     },
     "metadata": {},
     "output_type": "display_data"
    }
   ],
   "source": [
    "# creating a dictionnary for labeling outliers\n",
    "dic_language = {'tgwiki': 'Tajik', 'zh_classicalwiki':'Literary Chinese', 'urwiki':'Urdu', 'orwiki':'Odia', 'pawiki':'Punjab',\n",
    "                'emlwiki':'Emiliano–Romagnolo', 'arzwiki':'Egyptian Arabic', 'newiki':'Nepali', 'astwiki':'Asturian',\n",
    "                'cywiki':'Welsch', 'maiwiki':'Maïthili'}\n",
    "\n",
    "# creating a dictionnary with the ratio corresponding to each language for later labeling\n",
    "dic_sitelinks = dict(zip(sitelinks_pd['Ratio_w'].tolist(), sitelinks_pd['sitelinks'].tolist()))\n",
    "\n",
    "# creating boxplot with notched 95% confidence interval for the median calculated by boostraping\n",
    "plt.figure(figsize=(6,6))\n",
    "ax = plt.boxplot(sitelinks_pd['Ratio_w'].tolist(), notch=True, bootstrap=1000, showmeans=True, meanline=True, widths=0.2)\n",
    "\n",
    "# get outliers data \n",
    "labels = ax['fliers'][0].get_data()\n",
    "labels[1].sort()\n",
    "xfliers = labels[0].tolist()\n",
    "yfliers = labels[1].tolist()\n",
    "\n",
    "#iterate over each outliers and adds label of its language\n",
    "for i, y in enumerate(yfliers):\n",
    "    if i%2 == 0:\n",
    "        plt.text(xfliers[i]-0.02 , y -0.005 , dic_language[dic_sitelinks[y]], horizontalalignment='right')\n",
    "    else:\n",
    "        plt.text(xfliers[i]+0.02 , y-0.005  , dic_language[dic_sitelinks[y]])\n",
    "plt.xlabel('Language')\n",
    "plt.ylabel('Woman ratio')\n",
    "plt.savefig('boxplot_languages.png')"
   ]
  },
  {
   "cell_type": "markdown",
   "metadata": {},
   "source": [
    "We can see that the median of the ratio of women is around 0.18 and except for the few outliers all the ratio are distributed between 0.3 and 0.1 with the quartiles being at about 1.5 and 2.1. \n",
    "By examining the outliers, we see that they are all fairly rare languages and thus the random variations could explain their ratio"
   ]
  },
  {
   "cell_type": "markdown",
   "metadata": {},
   "source": [
    "## Analysis of gender inequalities through occupations"
   ]
  },
  {
   "cell_type": "markdown",
   "metadata": {},
   "source": [
    "We now want to investigate if the distribution of women and men is different in different fields of occupations and if we can highlight some changes through time.\n"
   ]
  },
  {
   "cell_type": "code",
   "execution_count": 25,
   "metadata": {},
   "outputs": [],
   "source": [
    "#\n",
    "def create_bins(df, bin_size):\n",
    "    \"\"\"\n",
    "    from the human dataframe, takes the floor of the division of the birth year by the bin_size \n",
    "    in order to create bins of bin_size years.\n",
    "    IN: spark dataframe df\n",
    "        int bin_size\n",
    "    \"\"\"\n",
    "    df_bin = spark.createDataFrame(df.rdd.map(lambda r: Row(Birth = r[0]//bin_size,\n",
    "                                                            Birthplace = r[1], \n",
    "                                                            Citizenship = r[2], \n",
    "                                                            Death = r[3], \n",
    "                                                            Gender = r[4], \n",
    "                                                            Id = r[5], \n",
    "                                                            Name = r[6], \n",
    "                                                            Occupations = r[7])))\n",
    "    return df_bin\n",
    "\n",
    "\n",
    "def get_humans_w_occ(df):\n",
    "    \"\"\"\n",
    "    From a human dataframe, groups the humans by occupations and by year of birth for men and women\n",
    "    \n",
    "    IN: Dataframe of humans and their attributes\n",
    "    \n",
    "    OUT: Two pandas dataframes for men and women of given occupations for each year / bin of years\n",
    "    \"\"\"\n",
    "    \n",
    "    citizens = df.select(\"Id\", \"Birth\", \"Citizenship\", \"Occupations\", \"Gender\") \\\n",
    "                 .withColumn(\"Citizenship\", F.explode(\"Citizenship\"))\n",
    "    \n",
    "    # separate men and women in 2 different dataframe to facilitate the operations\n",
    "    men = citizens.filter(\"Gender == 'male'\")\n",
    "    women = citizens.filter(\"Gender == 'female'\")\n",
    "    \n",
    "    # explode occupations, groups the row by birth and aggregate with a list of count of occurence of each occupation for one birth date\n",
    "    # Then explode occupation occurence list and filter all occupations that have less than 5 people.\n",
    "    men_occ = spark.createDataFrame(spark.createDataFrame(men.select('Birth', 'Occupations')\n",
    "                                            .withColumn('Occupations', F.explode('Occupations'))\n",
    "                                            .groupBy(\"Birth\").agg(F.collect_list(\"Occupations\")) \n",
    "                                            .rdd.map(lambda r: Row(Occupations = Counter(r[1]).most_common(),\n",
    "                                                                   Birth = r[0],)))\n",
    "                                        .withColumn('Occupations', F.explode('Occupations'))\n",
    "                                        .rdd.map(lambda r: Row(Birth = r[0], Occupations = r[1][0], number = r[1][1]))).filter('number > 5')\n",
    "    \n",
    "    women_occ = spark.createDataFrame(spark.createDataFrame(women.select('Birth', 'Occupations')\n",
    "                                            .withColumn('Occupations', F.explode('Occupations'))\n",
    "                                            .groupBy(\"Birth\").agg(F.collect_list(\"Occupations\")) \n",
    "                                            .rdd.map(lambda r: Row(Occupations = Counter(r[1]).most_common(),\n",
    "                                                                   Birth = r[0],)))\n",
    "                                        .withColumn('Occupations', F.explode('Occupations'))\n",
    "                                        .rdd.map(lambda r: Row(Birth = r[0], Occupations = r[1][0], number = r[1][1]))).filter('number > 5')\n",
    "\n",
    "    \n",
    "    #putting labels instead of numeric id \n",
    "    women_occ = spark.createDataFrame(women_occ.rdd.filter(lambda r: r[1] in dict_occ.keys())\n",
    "                                       .map(lambda r: Row(Women_count = r[2],\n",
    "                                                          Birth = r[0],\n",
    "                                                          Occupation = dict_occ[r[1]])))\n",
    "    men_occ = spark.createDataFrame(men_occ.rdd.filter(lambda r: r[1] in dict_occ.keys())\n",
    "                                       .map(lambda r: Row(Men_count = r[2],\n",
    "                                                          Birth = r[0],\n",
    "                                                          Occupation = dict_occ[r[1]])))\n",
    "    # converts the dataframe to pandas\n",
    "    women_occ_pd = women_occ.toPandas()\n",
    "    men_occ_pd = men_occ.toPandas()\n",
    "    \n",
    "    return men_occ_pd, women_occ_pd\n",
    "\n",
    "def return_category(x, dic):\n",
    "    for key, vals in dic.items():\n",
    "        if x in vals:\n",
    "            return key\n",
    "       \n",
    "    return 'others'"
   ]
  },
  {
   "cell_type": "code",
   "execution_count": 26,
   "metadata": {},
   "outputs": [],
   "source": [
    "# We group humans by decade in order to have enough humans fo each time point to have significant result\n",
    "bins = create_bins(humans, 10)"
   ]
  },
  {
   "cell_type": "code",
   "execution_count": 32,
   "metadata": {},
   "outputs": [],
   "source": [
    "# Loading of the dictionnary to group the occupations by category\n",
    "dict_cat = {}\n",
    "with open(os.path.join(\"dict\", \"categories.txt\"), mode='rt') as f:\n",
    "    f.read(3)\n",
    "    for line in f:\n",
    "        dict_cat.update(eval(line.strip()))\n",
    "        \n",
    "# Imports a dictionary for labeling the IDs of the occupations \n",
    "dict_occ = {}\n",
    "with open(os.path.join(\"dict\",\"occupations_to_name.json\"), mode='rt') as f:\n",
    "    for line in f:\n",
    "        dict_occ.update(eval(line.rstrip('\\n')))"
   ]
  },
  {
   "cell_type": "code",
   "execution_count": null,
   "metadata": {},
   "outputs": [],
   "source": [
    "#create the dataframes with the occupations counts for women and for men.\n",
    "men_occ_pd1, women_occ_pd1 = get_humans_w_occ(bins)"
   ]
  },
  {
   "cell_type": "code",
   "execution_count": null,
   "metadata": {},
   "outputs": [],
   "source": [
    "men_occ_pd, women_occ_pd = men_occ_pd1, women_occ_pd1\n",
    "\n",
    "# create a new category column which indicates to which category each occupation belongs using the dictionnary loaded previously.\n",
    "men_occ_pd['category'] = men_occ_pd['Occupation'].apply((lambda x: return_category(x, dict_cat)))\n",
    "women_occ_pd['category'] = women_occ_pd['Occupation'].apply((lambda x: return_category(x, dict_cat)))\n",
    "\n",
    "# group by category and birth bin so as to have for each bin a count of the number of people appearing in each category\n",
    "men_pd = men_occ_pd.groupby(['Birth','category']).sum()\n",
    "women_pd = women_occ_pd.groupby(['Birth','category']).sum()\n",
    "\n",
    "# merging the 2 dataframes\n",
    "occ_all_pd = pd.merge(women_pd,men_pd, how='outer', left_on = ['Birth', 'category'], right_on = ['Birth', 'category'], sort = True).groupby(['Birth','category']).sum()\n",
    "\n",
    "#creating new columns for total count and ratio of woman\n",
    "occ_all_pd['Total'] = occ_all_pd[['Women_count', 'Men_count']].sum(axis=1, numeric_only =True)\n",
    "occ_all_pd['Ratio_w'] = occ_all_pd['Women_count'].div(occ_all_pd['Total'])\n",
    "occ_all_pd.reset_index(inplace=True)\n",
    "# dropping useless columns\n",
    "occ_all_pd.drop(['Women_count', 'Men_count', 'Total'], axis=1, inplace=True) "
   ]
  },
  {
   "cell_type": "code",
   "execution_count": null,
   "metadata": {},
   "outputs": [],
   "source": [
    "# only keeping people after 1700. Since we bined by 10 years, we actually take 170 as smallest birth\n",
    "occupations = occ_all_pd[occ_all_pd['Birth'] >=170] \n",
    "# multiplying by 10 to come back to a normal year format\n",
    "occupations['Birth'] = occupations['Birth']*10\n",
    "\n",
    "# pivoting table to represent the data in a way that makes it easier to plot and correcting the indexing\n",
    "occupations = pd.pivot_table(occupations, index=['Birth'], columns=['category'])\n",
    "occupations.fillna(0, inplace=True)\n",
    "occupations.columns = occupations.columns.get_level_values(1)\n",
    "\n",
    "# bar plot for the Movie and theater industry\n",
    "occupations.reset_index().plot.bar('Birth','Movie industry and theatre', color='b',alpha=0.5, width=1.0, edgecolor='black', ylim = (0,1),figsize=(15,5))\n",
    "plt.ylabel('women ratio')\n",
    "plt.savefig('movie_industry.png')"
   ]
  },
  {
   "cell_type": "markdown",
   "metadata": {},
   "source": [
    "**Analysis**\n",
    "\n",
    "We first look at movie and theatre industry since it seems to be the unique category of occupations that shows some parity for all the period observed. Though it is unique, this distribution of ratio is not necessarily surprising. There was never really discrimination against actress, in the contrary, they are as needed as actors. The other related job, like director or playwright for instance, may see some discrimination, but since the bulk of famous people in this category are actors, we do no see much inequality there."
   ]
  },
  {
   "cell_type": "markdown",
   "metadata": {},
   "source": [
    "We can now look at all other categories"
   ]
  },
  {
   "cell_type": "code",
   "execution_count": null,
   "metadata": {},
   "outputs": [],
   "source": [
    "occupations.drop('Movie industry and theatre', axis=1, inplace=True)"
   ]
  },
  {
   "cell_type": "code",
   "execution_count": null,
   "metadata": {},
   "outputs": [],
   "source": [
    "# now we create a plot for all other occupations\n",
    "cats = [cat for cat in occupations.columns.tolist()]\n",
    "palette = Category20[15]\n",
    "\n",
    "def ridge(category, data, scale=1):\n",
    "    return list(zip([category]*len(data), scale*data))\n",
    "\n",
    "x = np.linspace(1700,2010,32)\n",
    "\n",
    "p = figure(x_range=(1800, 1980), y_range=cats)\n",
    "\n",
    "source = ColumnDataSource(data=dict(x=x))\n",
    "\n",
    "for i, cat in enumerate(occupations):\n",
    "    y = ridge(cat, occupations[cat].values)\n",
    "    source.add(y, cat)\n",
    "    p.patch('x', cat, color=palette[i], alpha=0.7, line_color=\"black\", source=source)\n",
    "\n",
    "p.xaxis.ticker = [1700, 1750, 1800, 1850, 1900, 1950, 2000]\n",
    "# yticks = np.hstack([np.linspace(0,1,5).tolist() for i in range(15)])\n",
    "# p.yaxis.ticker = yticks\n",
    "\n",
    "p.axis.major_label_text_font_size = \"10pt\"\n",
    "p.y_range.range_padding = 0.01\n",
    "output_notebook()\n",
    "save(p)"
   ]
  },
  {
   "cell_type": "code",
   "execution_count": 1,
   "metadata": {},
   "outputs": [
    {
     "data": {
      "image/png": "[encoded data removed]",
      "text/plain": [
       "<IPython.core.display.Image object>"
      ]
     },
     "execution_count": 1,
     "metadata": {},
     "output_type": "execute_result"
    }
   ],
   "source": [
    "from IPython.display import Image\n",
    "Image(\"bokeh_plot.png\")"
   ]
  },
  {
   "cell_type": "markdown",
   "metadata": {},
   "source": [
    "We see on this plot that the for every category, the ratio of women starts low and increases slowly, with a faster increase starting from the 1940's. The height of each box represent a ratio of one, thus we see that there are a few categories where parity is reached: litterature and journalism, social science with only entertainment haveing a ratio that is noticeably higher than 0.5. Most categories are still below a ratio but the trends looks to be going the right way for all of them. Even in categories that were exclusively masculine until recently like religion or military / law inforcement, the ratio is going up steadily. \n"
   ]
  },
  {
   "cell_type": "markdown",
   "metadata": {},
   "source": [
    "## Discussion "
   ]
  },
  {
   "cell_type": "markdown",
   "metadata": {},
   "source": [
    "Thgrough these analysis, we see that wikidata can be used to highlight trends in gender equality. We could highlight that depending on the geographic / cultural region, we saw the same disparities as what we expected for instance that women are less represented in arabic countries in general compared to Europe or North America. These last two, as we expected since they are very close culturally, showed the same trends and distributions. However even for there region, though the ratio of women increases exponentially, there is still a lot more men being featured hinting that equality hasn't been reached yet or that if it has, it is not yet showing on wikidata. The only region where there was the same number of women than men was in Japan. \n",
    "\n",
    "Regarding the languages of the articles, we showed that there didn't seem to be significant difference between them. From this we can infer that the gender representation differences between regions are not due to gender bias in recording them, but are based on real inequalities that are reflected. \n",
    "\n",
    "Through the occupations, we see that, as the the global trend, every occupations tends towards equality. This corroborates the shift of mentality of the modern age in which women are not considered only as housewives but as equal to men and contributing to society in the same way. \n",
    "\n"
   ]
  }
 ],
 "metadata": {
  "kernelspec": {
   "display_name": "Python 3",
   "language": "python",
   "name": "python3"
  },
  "language_info": {
   "codemirror_mode": {
    "name": "ipython",
    "version": 3
   },
   "file_extension": ".py",
   "mimetype": "text/x-python",
   "name": "python",
   "nbconvert_exporter": "python",
   "pygments_lexer": "ipython3",
   "version": "3.6.5"
  }
 },
 "nbformat": 4,
 "nbformat_minor": 2
}
